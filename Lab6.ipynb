{
 "cells": [
  {
   "cell_type": "markdown",
   "metadata": {},
   "source": [
    "# Lab6"
   ]
  },
  {
   "cell_type": "markdown",
   "metadata": {},
   "source": [
    "###### Step 1"
   ]
  },
  {
   "cell_type": "code",
   "execution_count": 31,
   "metadata": {},
   "outputs": [],
   "source": [
    "from urllib import request\n",
    "\n",
    "import json\n",
    "\n",
    "from pprint import pprint\n",
    "\n",
    "import xlwt"
   ]
  },
  {
   "cell_type": "markdown",
   "metadata": {},
   "source": [
    "##### Step 2"
   ]
  },
  {
   "cell_type": "code",
   "execution_count": 32,
   "metadata": {},
   "outputs": [],
   "source": [
    "census_api_key = '181d35bda64b33117f1900a91e7e9e77f07ca3bd'\n",
    "\n",
    "url_str = 'https://api.census.gov/data/2016/acs/acs5?get=B01001_001E,B01001_002E,NAME&for=county:*&in=state:51&key='+census_api_key"
   ]
  },
  {
   "cell_type": "code",
   "execution_count": 33,
   "metadata": {},
   "outputs": [],
   "source": [
    "response = request.urlopen(url_str) # read the response into computer\n",
    "html_str = response.read().decode(\"utf-8\") # convert the response into string"
   ]
  },
  {
   "cell_type": "code",
   "execution_count": 34,
   "metadata": {},
   "outputs": [
    {
     "name": "stdout",
     "output_type": "stream",
     "text": [
      "('[[\"B01001_001E\",\"B01001_002E\",\"NAME\",\"state\",\"county\"],\\n'\n",
      " '[\"33060\",\"16125\",\"Accomack County, Virginia\",\"51\",\"001\"],\\n'\n",
      " '[\"104287\",\"49946\",\"Albemarle County, Virginia\",\"51\",\"003\"],\\n'\n",
      " '[\"15919\",\"7788\",\"Alleghany County, Virginia\",\"51\",\"005\"],\\n'\n",
      " '[\"12793\",\"6642\",\"Amelia County, Virginia\",\"51\",\"007\"],\\n'\n",
      " '[\"31999\",\"15346\",\"Amherst County, Virginia\",\"51\",\"009\"],\\n'\n",
      " '[\"15314\",\"7424\",\"Appomattox County, Virginia\",\"51\",\"011\"],\\n'\n",
      " '[\"226092\",\"112644\",\"Arlington County, Virginia\",\"51\",\"013\"],\\n'\n",
      " '[\"74330\",\"37572\",\"Augusta County, Virginia\",\"51\",\"015\"],\\n'\n",
      " '[\"4558\",\"2465\",\"Bath County, Virginia\",\"51\",\"017\"],\\n'\n",
      " '[\"76933\",\"37888\",\"Bedford County, Virginia\",\"51\",\"019\"],\\n'\n",
      " '[\"6612\",\"3733\",\"Bland County, Virginia\",\"51\",\"021\"],\\n'\n",
      " '[\"33192\",\"16425\",\"Botetourt County, Virginia\",\"51\",\"023\"],\\n'\n",
      " '[\"16573\",\"8668\",\"Brunswick County, Virginia\",\"51\",\"025\"],\\n'\n",
      " '[\"23158\",\"11673\",\"Buchanan County, Virginia\",\"51\",\"027\"],\\n'\n",
      " '[\"17030\",\"9453\",\"Buckingham County, Virginia\",\"51\",\"029\"],\\n'\n",
      " '[\"55061\",\"26745\",\"Campbell County, Virginia\",\"51\",\"031\"],\\n'\n",
      " '[\"29640\",\"14677\",\"Caroline County, Virginia\",\"51\",\"033\"],\\n'\n",
      " '[\"29733\",\"14897\",\"Carroll County, Virginia\",\"51\",\"035\"],\\n'\n",
      " '[\"7086\",\"3456\",\"Charles City County, Virginia\",\"51\",\"036\"],\\n'\n",
      " '[\"12232\",\"6121\",\"Charlotte County, Virginia\",\"51\",\"037\"],\\n'\n",
      " '[\"331839\",\"159789\",\"Chesterfield County, Virginia\",\"51\",\"041\"],\\n'\n",
      " '[\"14307\",\"7087\",\"Clarke County, Virginia\",\"51\",\"043\"],\\n'\n",
      " '[\"5195\",\"2509\",\"Craig County, Virginia\",\"51\",\"045\"],\\n'\n",
      " '[\"48952\",\"24612\",\"Culpeper County, Virginia\",\"51\",\"047\"],\\n'\n",
      " '[\"9769\",\"4779\",\"Cumberland County, Virginia\",\"51\",\"049\"],\\n'\n",
      " '[\"15304\",\"7814\",\"Dickenson County, Virginia\",\"51\",\"051\"],\\n'\n",
      " '[\"28155\",\"13903\",\"Dinwiddie County, Virginia\",\"51\",\"053\"],\\n'\n",
      " '[\"11130\",\"5137\",\"Essex County, Virginia\",\"51\",\"057\"],\\n'\n",
      " '[\"1132887\",\"560803\",\"Fairfax County, Virginia\",\"51\",\"059\"],\\n'\n",
      " '[\"68025\",\"33659\",\"Fauquier County, Virginia\",\"51\",\"061\"],\\n'\n",
      " '[\"15587\",\"7682\",\"Floyd County, Virginia\",\"51\",\"063\"],\\n'\n",
      " '[\"26046\",\"11826\",\"Fluvanna County, Virginia\",\"51\",\"065\"],\\n'\n",
      " '[\"56230\",\"27592\",\"Franklin County, Virginia\",\"51\",\"067\"],\\n'\n",
      " '[\"82321\",\"40925\",\"Frederick County, Virginia\",\"51\",\"069\"],\\n'\n",
      " '[\"16871\",\"8233\",\"Giles County, Virginia\",\"51\",\"071\"],\\n'\n",
      " '[\"37021\",\"18267\",\"Gloucester County, Virginia\",\"51\",\"073\"],\\n'\n",
      " '[\"21979\",\"10791\",\"Goochland County, Virginia\",\"51\",\"075\"],\\n'\n",
      " '[\"15180\",\"7463\",\"Grayson County, Virginia\",\"51\",\"077\"],\\n'\n",
      " '[\"19085\",\"9321\",\"Greene County, Virginia\",\"51\",\"079\"],\\n'\n",
      " '[\"11698\",\"7254\",\"Greensville County, Virginia\",\"51\",\"081\"],\\n'\n",
      " '[\"35305\",\"16844\",\"Halifax County, Virginia\",\"51\",\"083\"],\\n'\n",
      " '[\"102199\",\"50104\",\"Hanover County, Virginia\",\"51\",\"085\"],\\n'\n",
      " '[\"321921\",\"152084\",\"Henrico County, Virginia\",\"51\",\"087\"],\\n'\n",
      " '[\"52209\",\"25094\",\"Henry County, Virginia\",\"51\",\"089\"],\\n'\n",
      " '[\"2230\",\"994\",\"Highland County, Virginia\",\"51\",\"091\"],\\n'\n",
      " '[\"36027\",\"17600\",\"Isle of Wight County, Virginia\",\"51\",\"093\"],\\n'\n",
      " '[\"71900\",\"34876\",\"James City County, Virginia\",\"51\",\"095\"],\\n'\n",
      " '[\"7140\",\"3673\",\"King and Queen County, Virginia\",\"51\",\"097\"],\\n'\n",
      " '[\"25260\",\"12588\",\"King George County, Virginia\",\"51\",\"099\"],\\n'\n",
      " '[\"16156\",\"8003\",\"King William County, Virginia\",\"51\",\"101\"],\\n'\n",
      " '[\"11055\",\"5128\",\"Lancaster County, Virginia\",\"51\",\"103\"],\\n'\n",
      " '[\"24911\",\"13083\",\"Lee County, Virginia\",\"51\",\"105\"],\\n'\n",
      " '[\"362435\",\"179315\",\"Loudoun County, Virginia\",\"51\",\"107\"],\\n'\n",
      " '[\"34350\",\"16874\",\"Louisa County, Virginia\",\"51\",\"109\"],\\n'\n",
      " '[\"12450\",\"6498\",\"Lunenburg County, Virginia\",\"51\",\"111\"],\\n'\n",
      " '[\"13122\",\"6410\",\"Madison County, Virginia\",\"51\",\"113\"],\\n'\n",
      " '[\"8848\",\"4144\",\"Mathews County, Virginia\",\"51\",\"115\"],\\n'\n",
      " '[\"31209\",\"15133\",\"Mecklenburg County, Virginia\",\"51\",\"117\"],\\n'\n",
      " '[\"10728\",\"5295\",\"Middlesex County, Virginia\",\"51\",\"119\"],\\n'\n",
      " '[\"97227\",\"50364\",\"Montgomery County, Virginia\",\"51\",\"121\"],\\n'\n",
      " '[\"14831\",\"7171\",\"Nelson County, Virginia\",\"51\",\"125\"],\\n'\n",
      " '[\"20051\",\"10215\",\"New Kent County, Virginia\",\"51\",\"127\"],\\n'\n",
      " '[\"12118\",\"5772\",\"Northampton County, Virginia\",\"51\",\"131\"],\\n'\n",
      " '[\"12272\",\"5966\",\"Northumberland County, Virginia\",\"51\",\"133\"],\\n'\n",
      " '[\"15641\",\"8483\",\"Nottoway County, Virginia\",\"51\",\"135\"],\\n'\n",
      " '[\"34873\",\"17110\",\"Orange County, Virginia\",\"51\",\"137\"],\\n'\n",
      " '[\"23759\",\"11636\",\"Page County, Virginia\",\"51\",\"139\"],\\n'\n",
      " '[\"18180\",\"8967\",\"Patrick County, Virginia\",\"51\",\"141\"],\\n'\n",
      " '[\"62392\",\"30667\",\"Pittsylvania County, Virginia\",\"51\",\"143\"],\\n'\n",
      " '[\"28286\",\"15198\",\"Powhatan County, Virginia\",\"51\",\"145\"],\\n'\n",
      " '[\"23077\",\"11532\",\"Prince Edward County, Virginia\",\"51\",\"147\"],\\n'\n",
      " '[\"37664\",\"20615\",\"Prince George County, Virginia\",\"51\",\"149\"],\\n'\n",
      " '[\"443630\",\"220996\",\"Prince William County, Virginia\",\"51\",\"153\"],\\n'\n",
      " '[\"34417\",\"17147\",\"Pulaski County, Virginia\",\"51\",\"155\"],\\n'\n",
      " '[\"7416\",\"3643\",\"Rappahannock County, Virginia\",\"51\",\"157\"],\\n'\n",
      " '[\"8868\",\"4960\",\"Richmond County, Virginia\",\"51\",\"159\"],\\n'\n",
      " '[\"93655\",\"44946\",\"Roanoke County, Virginia\",\"51\",\"161\"],\\n'\n",
      " '[\"22450\",\"11150\",\"Rockbridge County, Virginia\",\"51\",\"163\"],\\n'\n",
      " '[\"78427\",\"38501\",\"Rockingham County, Virginia\",\"51\",\"165\"],\\n'\n",
      " '[\"27973\",\"13693\",\"Russell County, Virginia\",\"51\",\"167\"],\\n'\n",
      " '[\"22378\",\"11259\",\"Scott County, Virginia\",\"51\",\"169\"],\\n'\n",
      " '[\"42857\",\"20972\",\"Shenandoah County, Virginia\",\"51\",\"171\"],\\n'\n",
      " '[\"31513\",\"15623\",\"Smyth County, Virginia\",\"51\",\"173\"],\\n'\n",
      " '[\"18291\",\"9555\",\"Southampton County, Virginia\",\"51\",\"175\"],\\n'\n",
      " '[\"129181\",\"63429\",\"Spotsylvania County, Virginia\",\"51\",\"177\"],\\n'\n",
      " '[\"139548\",\"70245\",\"Stafford County, Virginia\",\"51\",\"179\"],\\n'\n",
      " '[\"6731\",\"3317\",\"Surry County, Virginia\",\"51\",\"181\"],\\n'\n",
      " '[\"11733\",\"7715\",\"Sussex County, Virginia\",\"51\",\"183\"],\\n'\n",
      " '[\"43367\",\"21489\",\"Tazewell County, Virginia\",\"51\",\"185\"],\\n'\n",
      " '[\"38807\",\"19357\",\"Warren County, Virginia\",\"51\",\"187\"],\\n'\n",
      " '[\"54562\",\"27008\",\"Washington County, Virginia\",\"51\",\"191\"],\\n'\n",
      " '[\"17528\",\"8640\",\"Westmoreland County, Virginia\",\"51\",\"193\"],\\n'\n",
      " '[\"40074\",\"20706\",\"Wise County, Virginia\",\"51\",\"195\"],\\n'\n",
      " '[\"29171\",\"14234\",\"Wythe County, Virginia\",\"51\",\"197\"],\\n'\n",
      " '[\"66919\",\"32825\",\"York County, Virginia\",\"51\",\"199\"],\\n'\n",
      " '[\"151473\",\"73054\",\"Alexandria city, Virginia\",\"51\",\"510\"],\\n'\n",
      " '[\"17340\",\"8084\",\"Bristol city, Virginia\",\"51\",\"520\"],\\n'\n",
      " '[\"6610\",\"2916\",\"Buena Vista city, Virginia\",\"51\",\"530\"],\\n'\n",
      " '[\"45538\",\"22057\",\"Charlottesville city, Virginia\",\"51\",\"540\"],\\n'\n",
      " '[\"233194\",\"113888\",\"Chesapeake city, Virginia\",\"51\",\"550\"],\\n'\n",
      " '[\"17554\",\"8068\",\"Colonial Heights city, Virginia\",\"51\",\"570\"],\\n'\n",
      " '[\"5650\",\"2903\",\"Covington city, Virginia\",\"51\",\"580\"],\\n'\n",
      " '[\"42360\",\"19379\",\"Danville city, Virginia\",\"51\",\"590\"],\\n'\n",
      " '[\"5565\",\"2564\",\"Emporia city, Virginia\",\"51\",\"595\"],\\n'\n",
      " '[\"23620\",\"11626\",\"Fairfax city, Virginia\",\"51\",\"600\"],\\n'\n",
      " '[\"13597\",\"6577\",\"Falls Church city, Virginia\",\"51\",\"610\"],\\n'\n",
      " '[\"8413\",\"3699\",\"Franklin city, Virginia\",\"51\",\"620\"],\\n'\n",
      " '[\"27853\",\"13066\",\"Fredericksburg city, Virginia\",\"51\",\"630\"],\\n'\n",
      " '[\"6858\",\"3290\",\"Galax city, Virginia\",\"51\",\"640\"],\\n'\n",
      " '[\"136789\",\"65983\",\"Hampton city, Virginia\",\"51\",\"650\"],\\n'\n",
      " '[\"51979\",\"24857\",\"Harrisonburg city, Virginia\",\"51\",\"660\"],\\n'\n",
      " '[\"22332\",\"10383\",\"Hopewell city, Virginia\",\"51\",\"670\"],\\n'\n",
      " '[\"7036\",\"3979\",\"Lexington city, Virginia\",\"51\",\"678\"],\\n'\n",
      " '[\"78755\",\"36987\",\"Lynchburg city, Virginia\",\"51\",\"680\"],\\n'\n",
      " '[\"41149\",\"20455\",\"Manassas city, Virginia\",\"51\",\"683\"],\\n'\n",
      " '[\"15827\",\"8387\",\"Manassas Park city, Virginia\",\"51\",\"685\"],\\n'\n",
      " '[\"13551\",\"6225\",\"Martinsville city, Virginia\",\"51\",\"690\"],\\n'\n",
      " '[\"181606\",\"88071\",\"Newport News city, Virginia\",\"51\",\"700\"],\\n'\n",
      " '[\"245724\",\"128011\",\"Norfolk city, Virginia\",\"51\",\"710\"],\\n'\n",
      " '[\"3978\",\"1763\",\"Norton city, Virginia\",\"51\",\"720\"],\\n'\n",
      " '[\"31997\",\"14709\",\"Petersburg city, Virginia\",\"51\",\"730\"],\\n'\n",
      " '[\"12068\",\"5912\",\"Poquoson city, Virginia\",\"51\",\"735\"],\\n'\n",
      " '[\"96071\",\"46306\",\"Portsmouth city, Virginia\",\"51\",\"740\"],\\n'\n",
      " '[\"17186\",\"8544\",\"Radford city, Virginia\",\"51\",\"750\"],\\n'\n",
      " '[\"216773\",\"102936\",\"Richmond city, Virginia\",\"51\",\"760\"],\\n'\n",
      " '[\"99329\",\"47524\",\"Roanoke city, Virginia\",\"51\",\"770\"],\\n'\n",
      " '[\"25290\",\"11904\",\"Salem city, Virginia\",\"51\",\"775\"],\\n'\n",
      " '[\"24234\",\"10937\",\"Staunton city, Virginia\",\"51\",\"790\"],\\n'\n",
      " '[\"87061\",\"42144\",\"Suffolk city, Virginia\",\"51\",\"800\"],\\n'\n",
      " '[\"449733\",\"221023\",\"Virginia Beach city, Virginia\",\"51\",\"810\"],\\n'\n",
      " '[\"21366\",\"10205\",\"Waynesboro city, Virginia\",\"51\",\"820\"],\\n'\n",
      " '[\"14988\",\"6532\",\"Williamsburg city, Virginia\",\"51\",\"830\"],\\n'\n",
      " '[\"27349\",\"13355\",\"Winchester city, Virginia\",\"51\",\"840\"]]')\n"
     ]
    }
   ],
   "source": [
    "pprint (html_str)"
   ]
  },
  {
   "cell_type": "markdown",
   "metadata": {},
   "source": [
    "##### Step 3"
   ]
  },
  {
   "cell_type": "code",
   "execution_count": 35,
   "metadata": {},
   "outputs": [],
   "source": [
    "book = xlwt.Workbook() # this creates a new excel file everytime\n",
    "\n",
    "sheet = book.add_sheet('va_pop')\n",
    "i=0\n",
    "if html_str:\n",
    "    json_data = json.loads(html_str)\n",
    "    for record in json_data:\n",
    "        total_pop, male_pop,name,state,count_num= record\n",
    "        sheet.write(i,0,total_pop)\n",
    "        sheet.write(i,1,male_pop)\n",
    "        i+=1\n",
    "book.save ('census.xls')"
   ]
  },
  {
   "cell_type": "markdown",
   "metadata": {},
   "source": [
    "##### Step 4"
   ]
  },
  {
   "cell_type": "code",
   "execution_count": 36,
   "metadata": {},
   "outputs": [],
   "source": [
    "import xlrd\n",
    "book= xlrd.open_workbook('census.xls')\n",
    "sheet = book.sheet_by_name(\"va_pop\")\n",
    "num_rows= sheet.nrows"
   ]
  },
  {
   "cell_type": "code",
   "execution_count": 37,
   "metadata": {},
   "outputs": [
    {
     "name": "stdout",
     "output_type": "stream",
     "text": [
      "B01001_001E B01001_002E\n",
      "33060 16125\n",
      "104287 49946\n",
      "15919 7788\n",
      "12793 6642\n",
      "31999 15346\n",
      "15314 7424\n",
      "226092 112644\n",
      "74330 37572\n",
      "4558 2465\n",
      "76933 37888\n"
     ]
    }
   ],
   "source": [
    "for i in range (11):\n",
    "    row= sheet.row_values(i)\n",
    "    B01001_001E,B01001_002=row\n",
    "    print (B01001_001E,B01001_002)"
   ]
  },
  {
   "cell_type": "markdown",
   "metadata": {},
   "source": [
    "##### Step 5"
   ]
  },
  {
   "cell_type": "code",
   "execution_count": 38,
   "metadata": {},
   "outputs": [],
   "source": [
    "from xlutils.copy import copy\n",
    "read_book = xlrd.open_workbook ('census.xls')\n",
    "sheet= read_book.sheet_by_name ('va_pop')\n",
    "num_rows=sheet.nrows\n",
    "write_book= copy (read_book)\n",
    "write_sheet = write_book.get_sheet(0)\n",
    "\n",
    "num_rows=sheet.nrows\n",
    "\n",
    "for i in range (num_rows):\n",
    "    row =sheet.row_values(i)\n",
    "    B01001_001E,B01001_002E=row\n",
    "    if i==0:\n",
    "        write_sheet.write (i,2,'male/total')\n",
    "    else:\n",
    "        write_sheet.write (i,2,int(B01001_002E)/int(B01001_001E))\n",
    "write_book.save('census.xls')"
   ]
  },
  {
   "cell_type": "markdown",
   "metadata": {},
   "source": [
    "##### Step 6"
   ]
  },
  {
   "cell_type": "code",
   "execution_count": 39,
   "metadata": {},
   "outputs": [
    {
     "name": "stdout",
     "output_type": "stream",
     "text": [
      "male/total\n",
      "0.48774954627949185\n",
      "0.4789283419793455\n",
      "0.48922671022049125\n",
      "0.5191901821308528\n",
      "0.4795774867964624\n",
      "0.48478516390231163\n",
      "0.4982219627408312\n",
      "0.5054755818646576\n",
      "0.5408073716542343\n",
      "0.4924804700193675\n"
     ]
    }
   ],
   "source": [
    "read_book= xlrd.open_workbook('census.xls')\n",
    "sheet = read_book.sheet_by_name(\"va_pop\")\n",
    "num_rows= sheet.nrows\n",
    "\n",
    "for i in range (11):\n",
    "    row= sheet.row_values(i)\n",
    "    B01001_001E,B01001_002E, maletotal=row\n",
    "    print (maletotal)"
   ]
  },
  {
   "cell_type": "code",
   "execution_count": null,
   "metadata": {},
   "outputs": [],
   "source": []
  }
 ],
 "metadata": {
  "kernelspec": {
   "display_name": "Python 3",
   "language": "python",
   "name": "python3"
  },
  "language_info": {
   "codemirror_mode": {
    "name": "ipython",
    "version": 3
   },
   "file_extension": ".py",
   "mimetype": "text/x-python",
   "name": "python",
   "nbconvert_exporter": "python",
   "pygments_lexer": "ipython3",
   "version": "3.6.5"
  }
 },
 "nbformat": 4,
 "nbformat_minor": 2
}
